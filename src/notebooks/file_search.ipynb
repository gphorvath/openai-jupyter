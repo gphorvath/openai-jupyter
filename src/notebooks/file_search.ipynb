{
 "cells": [
  {
   "cell_type": "code",
   "execution_count": null,
   "metadata": {},
   "outputs": [],
   "source": [
    "from openai import OpenAI\n",
    "import os\n",
    "from pathlib import Path"
   ]
  },
  {
   "cell_type": "code",
   "execution_count": null,
   "metadata": {},
   "outputs": [],
   "source": [
    "# Load environment variables from .env file\n",
    "client = OpenAI(\n",
    "    base_url=os.getenv(\"OPENAI_API_URL\"), api_key=os.getenv(\"OPENAI_API_KEY\")\n",
    ")"
   ]
  },
  {
   "cell_type": "code",
   "execution_count": null,
   "metadata": {},
   "outputs": [],
   "source": [
    "# [RUN ONCE] Uploads a file and creates a vector store and assistant\n",
    "client = OpenAI(\n",
    "    base_url=os.getenv(\"OPENAI_API_URL\"), api_key=os.getenv(\"OPENAI_API_KEY\")\n",
    ")\n",
    "\n",
    "# Upload a file and create a vector store\n",
    "create_file_response = client.files.create(\n",
    "    file=Path(\"../../data/jack_and_diane.md\"),\n",
    "    purpose=\"assistants\",\n",
    ")\n",
    "\n",
    "file_id = create_file_response.model_dump().get(\"id\")\n",
    "\n",
    "create_vector_store_response = client.beta.vector_stores.create(\n",
    "    file_ids=[file_id], name=\"jack_and_diane\"\n",
    ")\n",
    "\n",
    "vector_store_id = create_vector_store_response.model_dump().get(\"id\")\n",
    "\n",
    "create_assistant_response = client.beta.assistants.create(\n",
    "    name=\"jack_and_diane\",\n",
    "    model=\"gpt-4-turbo\",\n",
    "    tools=[{\"type\": \"file_search\"}],\n",
    "    tool_resources={\"file_search\": {\"vector_store_ids\": [vector_store_id]}},\n",
    ")\n",
    "\n",
    "assistant_id = create_assistant_response.model_dump().get(\"id\")\n",
    "\n",
    "print(\n",
    "    f\"Assistant ID: {assistant_id} \\nVector Store ID: {vector_store_id} \\nFile ID: {file_id}\"\n",
    ")"
   ]
  },
  {
   "cell_type": "code",
   "execution_count": null,
   "metadata": {},
   "outputs": [],
   "source": [
    "# List files and assistants\n",
    "list_assistants = client.beta.assistants.list().data\n",
    "\n",
    "print(f\"Assistants: {list_assistants}\\n\")\n",
    "\n",
    "list_vector_stores = client.beta.vector_stores.list().data\n",
    "\n",
    "print(f\"Vector Stores: {list_vector_stores} \\n\")\n",
    "\n",
    "list_files = client.files.list().data\n",
    "\n",
    "print(f\"Files: {list_files} \\n\")"
   ]
  },
  {
   "cell_type": "code",
   "execution_count": null,
   "metadata": {},
   "outputs": [],
   "source": [
    "# Get the ID for the assistant 'jack_and_diane'\n",
    "assistant_id = None\n",
    "\n",
    "for assistant in list_assistants:\n",
    "    if assistant.name == \"jack_and_diane\":\n",
    "        assistant_id = assistant.id\n",
    "        break\n",
    "\n",
    "print(f\"The ID for the assistant 'jack_and_diane' is: {assistant_id}\")"
   ]
  },
  {
   "cell_type": "code",
   "execution_count": null,
   "metadata": {},
   "outputs": [],
   "source": [
    "# Create a new assistant\n",
    "thread = client.beta.threads.create()"
   ]
  },
  {
   "cell_type": "code",
   "execution_count": null,
   "metadata": {},
   "outputs": [],
   "source": [
    "# Send a message to the assistant\n",
    "message = client.beta.threads.messages.create(\n",
    "    thread_id=thread.id,\n",
    "    role=\"user\",\n",
    "    content=\"What is the name of Jack's cat?\",\n",
    ")"
   ]
  },
  {
   "cell_type": "code",
   "execution_count": null,
   "metadata": {},
   "outputs": [],
   "source": [
    "# Start a run\n",
    "run = client.beta.threads.runs.create_and_poll(\n",
    "    thread_id=thread.id,\n",
    "    assistant_id=assistant.id,\n",
    "    instructions=\"You are an expert in the love story of Jack and Diane. Answer the user's question.\",\n",
    ")"
   ]
  },
  {
   "cell_type": "code",
   "execution_count": null,
   "metadata": {},
   "outputs": [],
   "source": [
    "# If the run is completed, print the messages\n",
    "if run.status == \"completed\":\n",
    "    messages = client.beta.threads.messages.list(thread_id=thread.id)\n",
    "    print(messages)\n",
    "else:\n",
    "    print(\"The run was not completed.\")\n",
    "    print(run.status)"
   ]
  },
  {
   "cell_type": "code",
   "execution_count": null,
   "metadata": {},
   "outputs": [],
   "source": [
    "# Create, Retrieve, Delete a file\n",
    "create_response = client.files.create(\n",
    "    file=Path(\"data/test_file.md\"),\n",
    "    purpose=\"assistants\",\n",
    ")\n",
    "\n",
    "print(f\"Created: {create_response}\")\n",
    "\n",
    "get_response = client.files.retrieve(\n",
    "    file_id=create_response.model_dump()[\"id\"],\n",
    ")\n",
    "\n",
    "print(f\"Retrieved: {get_response}\")\n",
    "\n",
    "delete_response = client.files.delete(\n",
    "    file_id=create_response.model_dump()[\"id\"],\n",
    ")\n",
    "\n",
    "print(f\"Deleted: {delete_response}\")"
   ]
  },
  {
   "cell_type": "code",
   "execution_count": null,
   "metadata": {},
   "outputs": [],
   "source": [
    "# Create, Retrieve, Delete an assistant\n",
    "create_response = client.beta.assistants.create(\n",
    "    name=\"Math Tutor\",\n",
    "    instructions=\"You are a personal math tutor. Write and run code to answer math questions.\",\n",
    "    tools=[{\"type\": \"file_search\"}],\n",
    "    model=\"gpt-4-turbo\",\n",
    ")\n",
    "\n",
    "print(f\"Created: {create_response}\")\n",
    "\n",
    "get_response = client.beta.assistants.retrieve(\n",
    "    assistant_id=create_response.model_dump()[\"id\"],\n",
    ")\n",
    "\n",
    "print(f\"Retrieved: {get_response}\")\n",
    "\n",
    "\n",
    "delete_response = client.beta.assistants.delete(\n",
    "    assistant_id=create_response.model_dump()[\"id\"],\n",
    ")\n",
    "\n",
    "print(f\"Deleted: {delete_response}\")"
   ]
  }
 ],
 "metadata": {
  "kernelspec": {
   "display_name": ".venv",
   "language": "python",
   "name": "python3"
  },
  "language_info": {
   "codemirror_mode": {
    "name": "ipython",
    "version": 3
   },
   "file_extension": ".py",
   "mimetype": "text/x-python",
   "name": "python",
   "nbconvert_exporter": "python",
   "pygments_lexer": "ipython3",
   "version": "3.11.4"
  }
 },
 "nbformat": 4,
 "nbformat_minor": 2
}
